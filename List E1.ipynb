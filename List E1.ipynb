{
 "cells": [
  {
   "cell_type": "markdown",
   "metadata": {},
   "source": [
    "# List Exercises 1\n"
   ]
  },
  {
   "cell_type": "markdown",
   "metadata": {},
   "source": [
    "Setup Stuff"
   ]
  },
  {
   "cell_type": "code",
   "execution_count": 6,
   "metadata": {},
   "outputs": [],
   "source": [
    "def test(got, expected):\n",
    "  if got == expected:\n",
    "    prefix = ' OK '\n",
    "  else:\n",
    "    prefix = '  X '\n",
    "  print('%s got: %s expected: %s' % (prefix, repr(got), repr(expected)))\n"
   ]
  },
  {
   "cell_type": "markdown",
   "metadata": {},
   "source": [
    "### Problem 1"
   ]
  },
  {
   "cell_type": "code",
   "execution_count": 7,
   "metadata": {},
   "outputs": [],
   "source": [
    "# A. match_ends\n",
    "# Given a list of strings, return the count of the number of\n",
    "# strings where the string length is 2 or more and the first\n",
    "# and last chars of the string are the same.\n",
    "# Note: python does not have a ++ operator, but += works.\n",
    "def match_ends(words):\n",
    "  # +++your code here+++\n",
    "  return None"
   ]
  },
  {
   "cell_type": "code",
   "execution_count": 9,
   "metadata": {},
   "outputs": [
    {
     "name": "stdout",
     "output_type": "stream",
     "text": [
      "  X  got: None expected: 3\n",
      "  X  got: None expected: 2\n",
      "  X  got: None expected: 1\n"
     ]
    }
   ],
   "source": [
    "def test1():\n",
    "  test(match_ends(['aba', 'xyz', 'aa', 'x', 'bbb']), 3)\n",
    "  test(match_ends(['', 'x', 'xy', 'xyx', 'xx']), 2)\n",
    "  test(match_ends(['aaa', 'be', 'abc', 'hello']), 1)\n",
    "test1()"
   ]
  },
  {
   "cell_type": "markdown",
   "metadata": {},
   "source": [
    "### Problem 2"
   ]
  },
  {
   "cell_type": "code",
   "execution_count": 11,
   "metadata": {},
   "outputs": [],
   "source": [
    "# Given a list of strings, return a list with the strings\n",
    "# in sorted order, except group all the strings that begin with 'x' first.\n",
    "# e.g. ['mix', 'xyz', 'apple', 'xanadu', 'aardvark'] yields\n",
    "# ['xanadu', 'xyz', 'aardvark', 'apple', 'mix']\n",
    "# Hint: this can be done by making 2 lists and sorting each of them\n",
    "# before combining them.\n",
    "# Hint: use the python sorted function!\n",
    "def front_x(words):\n",
    "  # +++your code here+++\n",
    "  return None"
   ]
  },
  {
   "cell_type": "code",
   "execution_count": 12,
   "metadata": {},
   "outputs": [
    {
     "name": "stdout",
     "output_type": "stream",
     "text": [
      "  X  got: None expected: ['xaa', 'xzz', 'axx', 'bbb', 'ccc']\n",
      "  X  got: None expected: ['xaa', 'xcc', 'aaa', 'bbb', 'ccc']\n",
      "  X  got: None expected: ['xanadu', 'xyz', 'aardvark', 'apple', 'mix']\n"
     ]
    }
   ],
   "source": [
    "def test2():\n",
    "  test(front_x(['bbb', 'ccc', 'axx', 'xzz', 'xaa']),\n",
    "       ['xaa', 'xzz', 'axx', 'bbb', 'ccc'])\n",
    "  test(front_x(['ccc', 'bbb', 'aaa', 'xcc', 'xaa']),\n",
    "       ['xaa', 'xcc', 'aaa', 'bbb', 'ccc'])\n",
    "  test(front_x(['mix', 'xyz', 'apple', 'xanadu', 'aardvark']),\n",
    "       ['xanadu', 'xyz', 'aardvark', 'apple', 'mix'])\n",
    "test2()"
   ]
  },
  {
   "cell_type": "markdown",
   "metadata": {},
   "source": [
    "### Problem 3"
   ]
  },
  {
   "cell_type": "code",
   "execution_count": 14,
   "metadata": {},
   "outputs": [],
   "source": [
    "# Given a list of non-empty tuples, return a list sorted in increasing\n",
    "# order by the last element in each tuple.\n",
    "# e.g. [(1, 7), (1, 3), (3, 4, 5), (2, 2)] yields\n",
    "# [(2, 2), (1, 3), (3, 4, 5), (1, 7)]\n",
    "# Hint: use a custom key= function to extract the last element form each tuple.\n",
    "def sort_last(tuples):\n",
    "    return None"
   ]
  },
  {
   "cell_type": "code",
   "execution_count": 15,
   "metadata": {},
   "outputs": [
    {
     "name": "stdout",
     "output_type": "stream",
     "text": [
      "  X  got: None expected: [(2, 1), (3, 2), (1, 3)]\n",
      "  X  got: None expected: [(3, 1), (1, 2), (2, 3)]\n",
      "  X  got: None expected: [(2, 2), (1, 3), (3, 4, 5), (1, 7)]\n"
     ]
    }
   ],
   "source": [
    "def test3():\n",
    "  test(sort_last([(1, 3), (3, 2), (2, 1)]),\n",
    "       [(2, 1), (3, 2), (1, 3)])\n",
    "  test(sort_last([(2, 3), (1, 2), (3, 1)]),\n",
    "       [(3, 1), (1, 2), (2, 3)])\n",
    "  test(sort_last([(1, 7), (1, 3), (3, 4, 5), (2, 2)]),\n",
    "       [(2, 2), (1, 3), (3, 4, 5), (1, 7)])\n",
    "test3()"
   ]
  }
 ],
 "metadata": {
  "kernelspec": {
   "display_name": "Python 3",
   "language": "python",
   "name": "python3"
  },
  "language_info": {
   "codemirror_mode": {
    "name": "ipython",
    "version": 3
   },
   "file_extension": ".py",
   "mimetype": "text/x-python",
   "name": "python",
   "nbconvert_exporter": "python",
   "pygments_lexer": "ipython3",
   "version": "3.7.3"
  }
 },
 "nbformat": 4,
 "nbformat_minor": 4
}
