{
 "cells": [
  {
   "cell_type": "markdown",
   "metadata": {},
   "source": [
    "### Quicksort\n",
    "\n",
    "In this exercise, you need to implement the quicksort algorithm"
   ]
  },
  {
   "cell_type": "code",
   "execution_count": 4,
   "metadata": {},
   "outputs": [
    {
     "name": "stdout",
     "output_type": "stream",
     "text": [
      " X  got: [3, 2, 1, 1, 2] expected: [1, 1, 2, 2, 3]\n",
      " OK  got: [0, 0] expected: [0, 0]\n",
      " X  got: [4, 5, 2, 1, 6] expected: [1, 2, 4, 5, 6]\n",
      " OK  got: [0] expected: [0]\n"
     ]
    }
   ],
   "source": [
    "def test(got, expected):\n",
    "    prefix = ' OK ' if got == expected else ' X '\n",
    "    print('%s got: %s expected: %s' % (prefix, repr(got), repr(expected)))\n",
    "\n",
    "def quicksort(nums):\n",
    "    ### your code here!\n",
    "    return nums\n",
    "    \n",
    "def test1():\n",
    "    test(quicksort([3,2,1,1,2]), [1, 1, 2,2, 3])\n",
    "    test(quicksort([0, 0]), [0,0])\n",
    "    test(quicksort([4,5,2,1,6]), [1,2,4,5,6])\n",
    "    test(quicksort([0]), [0])\n",
    "test1()"
   ]
  },
  {
   "cell_type": "code",
   "execution_count": 5,
   "metadata": {},
   "outputs": [],
   "source": [
    "#Some things to consider about quicksort: Whats the best, average, and worst case time complexity?"
   ]
  },
  {
   "cell_type": "code",
   "execution_count": 6,
   "metadata": {},
   "outputs": [
    {
     "name": "stdout",
     "output_type": "stream",
     "text": [
      " X  got: [1, 2, 2, 3, 1] expected: [1, 1, 2, 2, 3]\n",
      " OK  got: [0, 0] expected: [0, 0]\n",
      " X  got: [6, 2, 1, 4, 5] expected: [1, 2, 4, 5, 6]\n",
      " OK  got: [0] expected: [0]\n"
     ]
    }
   ],
   "source": [
    "# NOTE: In order to avoid getting the worst case complexity,\n",
    "# you want to shuffle your input list prior to doing quicksort.\n",
    "# Thus the following is the proper way to quicksort:\n",
    "from random import shuffle\n",
    "def quicksort2(nums):\n",
    "    shuffle(nums)\n",
    "    return quicksort(nums)\n",
    "\n",
    "def test2():\n",
    "    test(quicksort2([3,2,1,1,2]), [1, 1, 2,2, 3])\n",
    "    test(quicksort2([0, 0]), [0,0])\n",
    "    test(quicksort2([4,5,2,1,6]), [1,2,4,5,6])\n",
    "    test(quicksort2([0]), [0])\n",
    "test2()"
   ]
  }
 ],
 "metadata": {
  "kernelspec": {
   "display_name": "Python 3",
   "language": "python",
   "name": "python3"
  },
  "language_info": {
   "codemirror_mode": {
    "name": "ipython",
    "version": 3
   },
   "file_extension": ".py",
   "mimetype": "text/x-python",
   "name": "python",
   "nbconvert_exporter": "python",
   "pygments_lexer": "ipython3",
   "version": "3.7.3"
  }
 },
 "nbformat": 4,
 "nbformat_minor": 4
}
