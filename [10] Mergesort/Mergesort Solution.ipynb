{
 "cells": [
  {
   "cell_type": "code",
   "execution_count": 3,
   "metadata": {},
   "outputs": [],
   "source": [
    "def test(got, expected):\n",
    "    prefix = ' OK ' if got == expected else ' X '\n",
    "    print('%s got: %s expected: %s' % (prefix, repr(got), repr(expected)))\n",
    "\n",
    "# At the end of the day, mergesort is really just a recursive algorithm, \n",
    "# and thus the implementation is quite similar to a lot of the recursive\n",
    "# patterns we have studied\n",
    "def mergesort(nums):\n",
    "    # BASE CASE - if our array is just a single element, \n",
    "    # it is already sorted, so we return it!\n",
    "    if len(nums) <= 1:\n",
    "        return nums\n",
    "\n",
    "    # Split the array in half. We recursively\n",
    "    # sort the left and right subarrays first, and then \"MERGE\"\n",
    "    # the two sorted arrays into a final completely sorted array\n",
    "    mid = int(len(nums)/2)\n",
    "    sortedLeft = mergesort(nums[0:mid])\n",
    "    sortedRight = mergesort(nums[mid:])\n",
    "    return merge(sortedLeft, sortedRight)\n",
    "\n",
    "# This is the merge subroutine that your mergesort will call\n",
    "# Returns a single list containing the sorted merge of the two input lists\n",
    "def merge(nums1, nums2):\n",
    "    retList = []\n",
    "    i,j = 0,0\n",
    "    while (i < len(nums1) or j < len(nums2)):\n",
    "        if j == len(nums2):\n",
    "            retList.append(nums1[i])\n",
    "            i += 1\n",
    "        elif i == len(nums1):\n",
    "            retList.append(nums2[j])\n",
    "            j += 1\n",
    "        elif nums1[i] <= nums2[j]:\n",
    "            retList.append(nums1[i])\n",
    "            i += 1\n",
    "        else:\n",
    "            retList.append(nums2[j])\n",
    "            j += 1\n",
    "    return retList"
   ]
  },
  {
   "cell_type": "code",
   "execution_count": 4,
   "metadata": {},
   "outputs": [
    {
     "name": "stdout",
     "output_type": "stream",
     "text": [
      " OK  got: [1, 1, 2, 2, 3] expected: [1, 1, 2, 2, 3]\n",
      " OK  got: [0, 0] expected: [0, 0]\n",
      " OK  got: [1, 2, 4, 5, 6] expected: [1, 2, 4, 5, 6]\n",
      " OK  got: [0] expected: [0]\n"
     ]
    }
   ],
   "source": [
    "def test1():\n",
    "    test(mergesort([3,2,1,1,2]), [1, 1, 2,2, 3])\n",
    "    test(mergesort([0, 0]), [0,0])\n",
    "    test(mergesort([4,5,2,1,6]), [1,2,4,5,6])\n",
    "    test(mergesort([0]), [0])\n",
    "test1()"
   ]
  }
 ],
 "metadata": {
  "kernelspec": {
   "display_name": "Python 3",
   "language": "python",
   "name": "python3"
  },
  "language_info": {
   "codemirror_mode": {
    "name": "ipython",
    "version": 3
   },
   "file_extension": ".py",
   "mimetype": "text/x-python",
   "name": "python",
   "nbconvert_exporter": "python",
   "pygments_lexer": "ipython3",
   "version": "3.7.3"
  }
 },
 "nbformat": 4,
 "nbformat_minor": 4
}
