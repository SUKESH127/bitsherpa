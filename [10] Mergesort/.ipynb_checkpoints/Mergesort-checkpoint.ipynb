{
 "cells": [
  {
   "cell_type": "markdown",
   "metadata": {},
   "source": [
    "### Mergesort"
   ]
  },
  {
   "cell_type": "markdown",
   "metadata": {},
   "source": [
    "In this exercise you need to implement the mergesort algorithm. Given a list of nums, we need to return the sorted version of it!\n",
    "\n",
    "Go ahead and copy the algorithm from https://algs4.cs.princeton.edu/14analysis/Mergesort.java.html\n",
    "into Python. Note that thanks to Python's language features, (for example we don't have to manually create copies of arrays in Python), your code should be significantly more brief. "
   ]
  },
  {
   "cell_type": "code",
   "execution_count": 14,
   "metadata": {},
   "outputs": [
    {
     "ename": "IndentationError",
     "evalue": "expected an indented block (<ipython-input-14-cc4af4f10b91>, line 18)",
     "output_type": "error",
     "traceback": [
      "\u001b[0;36m  File \u001b[0;32m\"<ipython-input-14-cc4af4f10b91>\"\u001b[0;36m, line \u001b[0;32m18\u001b[0m\n\u001b[0;31m    def merge(nums1, nums2):\u001b[0m\n\u001b[0m      ^\u001b[0m\n\u001b[0;31mIndentationError\u001b[0m\u001b[0;31m:\u001b[0m expected an indented block\n"
     ]
    }
   ],
   "source": [
    "def test(got, expected):\n",
    "    prefix = ' OK ' if got == expected else ' X '\n",
    "    print('%s got: %s expected %s' % (prefix, repr(got), repr(expected)))\n",
    "\n",
    "def mergesort(nums):\n",
    "    #your code here\n",
    "\n",
    "# This is the merge subroutine that your mergesort will call\n",
    "# Returns a single list containing the sorted merge of the two input lists\n",
    "def merge(nums1, nums2):\n",
    "    #your code here\n",
    "\n",
    "def test1():\n",
    "    test(mergesort([3,2,1,1,2]), [1, 1, 2,2, 3])\n",
    "    test(mergesort([0, 0]), [0,0])\n",
    "    test(mergesort([4,5,2,1,6]), [1,2,4,5,6])\n",
    "    test(mergesort([0]), [0])\n",
    "test1()"
   ]
  },
  {
   "cell_type": "markdown",
   "metadata": {},
   "source": [
    "Question - what's the time complexity of mergesort? What is the space complexity of mergesort?"
   ]
  }
 ],
 "metadata": {
  "kernelspec": {
   "display_name": "Python 3",
   "language": "python",
   "name": "python3"
  },
  "language_info": {
   "codemirror_mode": {
    "name": "ipython",
    "version": 3
   },
   "file_extension": ".py",
   "mimetype": "text/x-python",
   "name": "python",
   "nbconvert_exporter": "python",
   "pygments_lexer": "ipython3",
   "version": "3.7.3"
  }
 },
 "nbformat": 4,
 "nbformat_minor": 4
}
