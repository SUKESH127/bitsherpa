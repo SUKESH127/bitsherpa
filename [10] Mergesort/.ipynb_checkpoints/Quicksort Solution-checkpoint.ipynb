{
 "cells": [
  {
   "cell_type": "markdown",
   "metadata": {},
   "source": [
    "### Quicksort Solution\n",
    "\n",
    "Now we will implement Quicksort."
   ]
  },
  {
   "cell_type": "code",
   "execution_count": 18,
   "metadata": {},
   "outputs": [
    {
     "name": "stdout",
     "output_type": "stream",
     "text": [
      " OK  got: [1, 1, 2, 2, 3] expected [1, 1, 2, 2, 3]\n",
      " OK  got: [0, 0] expected [0, 0]\n",
      " OK  got: [1, 2, 4, 5, 6] expected [1, 2, 4, 5, 6]\n",
      " OK  got: [0] expected [0]\n"
     ]
    }
   ],
   "source": [
    "def test(got, expected):\n",
    "    prefix = ' OK ' if got == expected else ' X '\n",
    "    print('%s got: %s expected %s' % (prefix, repr(got), repr(expected)))\n",
    "\n",
    "\n",
    "#Fill in Code Here\n",
    "def quicksort(nums):\n",
    "    if len(nums) <= 1:\n",
    "        return nums\n",
    "    pivot = nums[0]\n",
    "    numsGreater = [n for n in nums[1:] if n > pivot]\n",
    "    numsLess = [n for n in nums[1:] if n <= pivot]\n",
    "    return quicksort(numsLess) + [pivot] + quicksort(numsGreater)\n",
    "\n",
    "def test1():\n",
    "    test(quicksort([3,2,1,1,2]), [1, 1, 2,2, 3])\n",
    "    test(quicksort([0, 0]), [0,0])\n",
    "    test(quicksort([4,5,2,1,6]), [1,2,4,5,6])\n",
    "    test(quicksort([0]), [0])\n",
    "test1()"
   ]
  },
  {
   "cell_type": "code",
   "execution_count": 19,
   "metadata": {},
   "outputs": [],
   "source": [
    "#Some things to consider about quicksort: Whats the best, average, and worst case time complexity?"
   ]
  },
  {
   "cell_type": "code",
   "execution_count": 20,
   "metadata": {},
   "outputs": [
    {
     "name": "stdout",
     "output_type": "stream",
     "text": [
      " OK  got: [1, 1, 2, 2, 3] expected [1, 1, 2, 2, 3]\n",
      " OK  got: [0, 0] expected [0, 0]\n",
      " OK  got: [1, 2, 4, 5, 6] expected [1, 2, 4, 5, 6]\n",
      " OK  got: [0] expected [0]\n"
     ]
    }
   ],
   "source": [
    "# NOTE: In order to avoid getting the worst case complexity,\n",
    "# you want to shuffle your input list prior to doing quicksort.\n",
    "# Thus the following is the proper way to quicksort:\n",
    "from random import shuffle\n",
    "def quicksort2(nums):\n",
    "    shuffle(nums)\n",
    "    return quicksort(nums)\n",
    "\n",
    "def test2():\n",
    "    test(quicksort2([3,2,1,1,2]), [1, 1, 2,2, 3])\n",
    "    test(quicksort2([0, 0]), [0,0])\n",
    "    test(quicksort2([4,5,2,1,6]), [1,2,4,5,6])\n",
    "    test(quicksort2([0]), [0])\n",
    "test2()"
   ]
  },
  {
   "cell_type": "code",
   "execution_count": null,
   "metadata": {},
   "outputs": [],
   "source": []
  }
 ],
 "metadata": {
  "kernelspec": {
   "display_name": "Python 3",
   "language": "python",
   "name": "python3"
  },
  "language_info": {
   "codemirror_mode": {
    "name": "ipython",
    "version": 3
   },
   "file_extension": ".py",
   "mimetype": "text/x-python",
   "name": "python",
   "nbconvert_exporter": "python",
   "pygments_lexer": "ipython3",
   "version": "3.7.3"
  }
 },
 "nbformat": 4,
 "nbformat_minor": 4
}
