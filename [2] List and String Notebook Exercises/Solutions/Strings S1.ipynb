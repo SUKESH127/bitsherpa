{
 "cells": [
  {
   "cell_type": "code",
   "execution_count": 1,
   "metadata": {},
   "outputs": [],
   "source": [
    "def donuts(count):\n",
    "  return 'Number of donuts: ' + str(count if count < 10 else 'many')\n",
    "\n",
    "\n",
    "def both_ends(s):\n",
    "  return \"\" if len(s) < 2 else s[0:2] + s[-2:]\n",
    "\n",
    "\n",
    "def fix_start(s):\n",
    "  return s[0] + s[1:].replace(s[0], '*')\n",
    "\n",
    "def mix_up(a, b):\n",
    "  newA = b[0:2] + a[2:]\n",
    "  newB = a[0:2] + b[2:]"
   ]
  }
 ],
 "metadata": {
  "kernelspec": {
   "display_name": "Python 3",
   "language": "python",
   "name": "python3"
  },
  "language_info": {
   "codemirror_mode": {
    "name": "ipython",
    "version": 3
   },
   "file_extension": ".py",
   "mimetype": "text/x-python",
   "name": "python",
   "nbconvert_exporter": "python",
   "pygments_lexer": "ipython3",
   "version": "3.7.3"
  }
 },
 "nbformat": 4,
 "nbformat_minor": 4
}
