{
 "cells": [
  {
   "cell_type": "markdown",
   "metadata": {},
   "source": [
    "## Solutions for List Exercises 2"
   ]
  },
  {
   "cell_type": "code",
   "execution_count": 1,
   "metadata": {},
   "outputs": [],
   "source": [
    "def remove_adjacent(nums):\n",
    "  # +++your code here+++\n",
    "  nL = [nums[0]]\n",
    "  for i in range(1, len(nums)):\n",
    "    if nums[i-1] != nums[i]:\n",
    "      nL.append(nums[i])\n",
    "  return nL\n",
    "\n",
    "\n",
    "def linear_merge(list1, list2):\n",
    "  # +++your code here+++\n",
    "  nl, i, j = [], 0, 0\n",
    "  while not (i == len(list1) and j == len(list2)):\n",
    "    if (i == len(list1)):\n",
    "      nl.append(list2[j])\n",
    "      j += 1\n",
    "    elif (j == len(list2)):\n",
    "      nl.append(list1[i])\n",
    "      i += 1\n",
    "    elif list1[i] < list2[j]:\n",
    "      nl.append(list1[i])\n",
    "      i += 1\n",
    "    else:\n",
    "      nl.append(list2[j])\n",
    "      j +=1\n",
    "  return nl\n",
    "\n",
    "def other_last(lst):\n",
    "    new = []\n",
    "    i = len(lst)-1\n",
    "    while i >= 0:\n",
    "        new.append(lst[i])\n",
    "        i -= 2\n",
    "    return new"
   ]
  }
 ],
 "metadata": {
  "kernelspec": {
   "display_name": "Python 3",
   "language": "python",
   "name": "python3"
  },
  "language_info": {
   "codemirror_mode": {
    "name": "ipython",
    "version": 3
   },
   "file_extension": ".py",
   "mimetype": "text/x-python",
   "name": "python",
   "nbconvert_exporter": "python",
   "pygments_lexer": "ipython3",
   "version": "3.7.3"
  }
 },
 "nbformat": 4,
 "nbformat_minor": 4
}
