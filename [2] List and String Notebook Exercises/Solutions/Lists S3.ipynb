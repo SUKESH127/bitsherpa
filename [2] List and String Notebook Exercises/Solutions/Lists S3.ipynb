{
 "cells": [
  {
   "cell_type": "markdown",
   "metadata": {},
   "source": [
    "  ## List S3"
   ]
  },
  {
   "cell_type": "code",
   "execution_count": 11,
   "metadata": {},
   "outputs": [],
   "source": [
    "# For the exercise, look up the methods and functions that are available for use\n",
    "# with Python lists. For the following, DO NOT USE AN ASSIGNMENT (=). Remember that assignment\n",
    "# creates a \"new\" object rather than modifying the one in place!"
   ]
  },
  {
   "cell_type": "code",
   "execution_count": 1,
   "metadata": {},
   "outputs": [],
   "source": [
    "x = [1, 2, 3]\n",
    "y = [8, 9, 10]"
   ]
  },
  {
   "cell_type": "code",
   "execution_count": 2,
   "metadata": {},
   "outputs": [
    {
     "name": "stdout",
     "output_type": "stream",
     "text": [
      "[1, 2, 3, 4]\n"
     ]
    }
   ],
   "source": [
    "# [1] Change x so that it is [1, 2, 3, 4]\n",
    "# YOUR CODE HERE\n",
    "x.append(4)\n",
    "print(x)"
   ]
  },
  {
   "cell_type": "code",
   "execution_count": 3,
   "metadata": {},
   "outputs": [
    {
     "name": "stdout",
     "output_type": "stream",
     "text": [
      "[1, 2, 3, 4, 8, 9, 10]\n"
     ]
    }
   ],
   "source": [
    "# [2] Using y, change x so that it is [1, 2, 3, 4, 8, 9, 10]\n",
    "# YOUR CODE HERE\n",
    "x.extend(y)\n",
    "print(x)"
   ]
  },
  {
   "cell_type": "code",
   "execution_count": 4,
   "metadata": {},
   "outputs": [
    {
     "name": "stdout",
     "output_type": "stream",
     "text": [
      "[1, 2, 3, 4, 9, 10]\n"
     ]
    }
   ],
   "source": [
    "# Change x so that it is [1, 2, 3, 4, 9, 10]\n",
    "# YOUR CODE HERE\n",
    "del x[4]\n",
    "print(x)"
   ]
  },
  {
   "cell_type": "code",
   "execution_count": 5,
   "metadata": {},
   "outputs": [
    {
     "name": "stdout",
     "output_type": "stream",
     "text": [
      "[1, 2, 3, 4, 9, 99, 10]\n"
     ]
    }
   ],
   "source": [
    "# Change x so that it is [1, 2, 3, 4, 9, 99, 10]\n",
    "# YOUR CODE HERE\n",
    "x.insert(5, 99)\n",
    "print(x)"
   ]
  },
  {
   "cell_type": "code",
   "execution_count": 6,
   "metadata": {},
   "outputs": [
    {
     "name": "stdout",
     "output_type": "stream",
     "text": [
      "7\n"
     ]
    }
   ],
   "source": [
    "# Print the length of list x\n",
    "def printLength():\n",
    "    print(len(x))\n",
    "    return None\n",
    "printLength()"
   ]
  },
  {
   "cell_type": "code",
   "execution_count": 7,
   "metadata": {},
   "outputs": [
    {
     "name": "stdout",
     "output_type": "stream",
     "text": [
      "[1000, 2000, 3000, 4000, 9000, 99000, 10000]\n"
     ]
    }
   ],
   "source": [
    "# Print all the values in x multiplied by 1000 using a list comprehension\n",
    "def printValues():\n",
    "    print([a*1000 for a in x])\n",
    "printValues()"
   ]
  },
  {
   "cell_type": "code",
   "execution_count": 10,
   "metadata": {},
   "outputs": [
    {
     "name": "stdout",
     "output_type": "stream",
     "text": [
      "[1000, 3000, 9000, 99000]\n"
     ]
    }
   ],
   "source": [
    "# For all values in x that are ODD, print those values multiplied by 1000, using a list comprehension\n",
    "def printValues2():\n",
    "    print([a*1000 for a in x if a % 2 == 1])\n",
    "printValues2()"
   ]
  },
  {
   "cell_type": "code",
   "execution_count": 8,
   "metadata": {},
   "outputs": [
    {
     "name": "stdout",
     "output_type": "stream",
     "text": [
      "[1000, 2000, 3000, 4000, 9000, 99000, 10000]\n"
     ]
    }
   ],
   "source": [
    "# Print all the values in x multiplied by 1000, using the map function\n",
    "def printValues3():\n",
    "    print(list(map(lambda x:x*1000, x)))\n",
    "printValues3()"
   ]
  },
  {
   "cell_type": "code",
   "execution_count": null,
   "metadata": {},
   "outputs": [],
   "source": []
  }
 ],
 "metadata": {
  "kernelspec": {
   "display_name": "Python 3",
   "language": "python",
   "name": "python3"
  },
  "language_info": {
   "codemirror_mode": {
    "name": "ipython",
    "version": 3
   },
   "file_extension": ".py",
   "mimetype": "text/x-python",
   "name": "python",
   "nbconvert_exporter": "python",
   "pygments_lexer": "ipython3",
   "version": "3.7.3"
  }
 },
 "nbformat": 4,
 "nbformat_minor": 4
}
